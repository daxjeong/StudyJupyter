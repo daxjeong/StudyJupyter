{
 "cells": [
  {
   "cell_type": "markdown",
   "id": "e5ac664c",
   "metadata": {},
   "source": [
    "# 통계분석"
   ]
  },
  {
   "cell_type": "code",
   "execution_count": 3,
   "id": "7bcba787",
   "metadata": {},
   "outputs": [],
   "source": [
    "# 사용되는 라이브러리\n",
    "# scipy : t검정에 사용됨\n",
    "from scipy import stats\n",
    "import numpy"
   ]
  },
  {
   "cell_type": "code",
   "execution_count": 5,
   "id": "0ec4a675",
   "metadata": {},
   "outputs": [
    {
     "data": {
      "text/plain": [
       "array([169, 167, 175, 166, 162, 180, 172, 162, 173, 162, 181, 175, 181,\n",
       "       181, 162, 165, 172, 176, 167, 165])"
      ]
     },
     "execution_count": 5,
     "metadata": {},
     "output_type": "execute_result"
    }
   ],
   "source": [
    "# 학생 키에 대한 데이터 생성하기\n",
    "height_list = numpy.array([169, 167, 175, 166, 162, 180, 172, 162, 173, 162, 181, 175, 181, 181, 162, 165, 172, 176, 167, 165])\n",
    "height_list"
   ]
  },
  {
   "cell_type": "code",
   "execution_count": 7,
   "id": "58e61193",
   "metadata": {},
   "outputs": [],
   "source": [
    "# t-검정"
   ]
  },
  {
   "cell_type": "code",
   "execution_count": 11,
   "id": "8f44260d",
   "metadata": {},
   "outputs": [],
   "source": [
    "tTestResult = stats.ttest_1samp(height_list, 170)"
   ]
  },
  {
   "cell_type": "code",
   "execution_count": 13,
   "id": "ce0b6687",
   "metadata": {},
   "outputs": [
    {
     "data": {
      "text/plain": [
       "Ttest_1sampResult(statistic=0.42270173526659166, pvalue=0.6772582597305596)"
      ]
     },
     "execution_count": 13,
     "metadata": {},
     "output_type": "execute_result"
    }
   ],
   "source": [
    "# statistic = 검정통계량\n",
    "# pvalue(p-value) = 유의수준\n",
    "\n",
    "# 170 값 : 귀무가설에서 채택한 값\n",
    "#        : 집단의 키 평균은 170이다.\n",
    "\n",
    "# 대립가설 : 집단의 키 평균은 170이 아니다.\n",
    "# t검정의 목적 : 대립가설이 참인지 확인하는 것\n",
    "# 확인은 => p-value < 0.05 채택\n",
    "#           p-value >= 0.05 기각\n",
    "# 채택과 기각은 대립가설을 기준으로 함\n",
    "\n",
    "tTestResult"
   ]
  },
  {
   "cell_type": "code",
   "execution_count": 14,
   "id": "e4bd24dd",
   "metadata": {},
   "outputs": [
    {
     "name": "stdout",
     "output_type": "stream",
     "text": [
      "t검정통계량 = 0.423, p-value = 0.677\n"
     ]
    }
   ],
   "source": [
    "print(\"t검정통계량 = %.3f, p-value = %.3f\" % (tTestResult))\n",
    "# % = 값을 넣겠다\n",
    "# .3f = 소수점 셋째자리까지(f = float)"
   ]
  },
  {
   "cell_type": "code",
   "execution_count": null,
   "id": "339f66ad",
   "metadata": {},
   "outputs": [],
   "source": [
    "# 해석\n",
    "\n",
    "# statistic = 검정통게량 = 정확도\n",
    "# pvalue(p-value) = 유의수준 = 오차\n",
    "# 정확도 + 오차 = 1\n",
    "\n",
    "# t검정을 통한 20개의 표본 집단을 분석한 결과\n",
    "# 유의수준 0.05보다 크기 때문에\n",
    "# 집단의 키 평균은 170이 아니다.(귀무가설 기각)"
   ]
  },
  {
   "cell_type": "code",
   "execution_count": null,
   "id": "614cdc2d",
   "metadata": {},
   "outputs": [],
   "source": [
    "# 두 집단"
   ]
  },
  {
   "cell_type": "code",
   "execution_count": 16,
   "id": "0e0b7f2c",
   "metadata": {},
   "outputs": [],
   "source": [
    "import numpy\n",
    "from scipy import stats"
   ]
  },
  {
   "cell_type": "code",
   "execution_count": 19,
   "id": "d7cb7f1f",
   "metadata": {},
   "outputs": [],
   "source": [
    "group1Heights = numpy.array([162, 168, 169, 165, 166, 168, \n",
    "                             162, 172, 157, 173, 158, 169,\n",
    "                             164, 170, 163, 175, 177, 162, \n",
    "                             175, 177])\n",
    "\n",
    "group2Heights = numpy.array([180, 181, 163, 164, 174, 169,\n",
    "                             164, 172, 162, 171, 180, 168,\n",
    "                             164, 169, 178, 177, 167, 179,\n",
    "                             172, 169])\n",
    "\n",
    "# 두 집단간 평균비교\n",
    "tTestResult = stats.ttest_ind(group1Heights, group2Heights)\n",
    "\n",
    "# 귀무가설 : 두 집단의 평균 키는 같다"
   ]
  },
  {
   "cell_type": "code",
   "execution_count": 20,
   "id": "a8263dc3",
   "metadata": {},
   "outputs": [
    {
     "data": {
      "text/plain": [
       "Ttest_indResult(statistic=-1.8253194633881713, pvalue=0.07582039848129221)"
      ]
     },
     "execution_count": 20,
     "metadata": {},
     "output_type": "execute_result"
    }
   ],
   "source": [
    "tTestResult"
   ]
  },
  {
   "cell_type": "code",
   "execution_count": 25,
   "id": "b133628d",
   "metadata": {},
   "outputs": [],
   "source": [
    "# 20개의 체중 데이터\n",
    "beforeWeights = numpy.array([80, 82, 76, 82, 65, 73, 77,\n",
    "                            78, 61, 81, 80, 70, 60, 83,\n",
    "                            89, 84, 85, 81, 67, 60])\n",
    "\n",
    "# 20개의 랜덤값 생성하기\n",
    "temp_list = []\n",
    "for i in beforeWeights:\n",
    "    # 랜덤한 가중치 부여\n",
    "    temp_list.append( i * numpy.random.normal(0.99, 0.02))\n",
    "\n",
    "afterWeights = numpy.array(temp_list)\n",
    "\n",
    "tTestResult = stats.ttest_rel(beforeWeights, afterWeights)"
   ]
  },
  {
   "cell_type": "code",
   "execution_count": 26,
   "id": "447aa2df",
   "metadata": {},
   "outputs": [
    {
     "data": {
      "text/plain": [
       "Ttest_relResult(statistic=1.6607749365867068, pvalue=0.1131716885630285)"
      ]
     },
     "execution_count": 26,
     "metadata": {},
     "output_type": "execute_result"
    }
   ],
   "source": [
    "tTestResult"
   ]
  },
  {
   "cell_type": "code",
   "execution_count": null,
   "id": "9401a2d6",
   "metadata": {},
   "outputs": [],
   "source": []
  }
 ],
 "metadata": {
  "kernelspec": {
   "display_name": "Python 3 (ipykernel)",
   "language": "python",
   "name": "python3"
  },
  "language_info": {
   "codemirror_mode": {
    "name": "ipython",
    "version": 3
   },
   "file_extension": ".py",
   "mimetype": "text/x-python",
   "name": "python",
   "nbconvert_exporter": "python",
   "pygments_lexer": "ipython3",
   "version": "3.9.7"
  }
 },
 "nbformat": 4,
 "nbformat_minor": 5
}
