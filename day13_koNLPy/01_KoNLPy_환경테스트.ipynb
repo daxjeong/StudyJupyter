{
 "cells": [
  {
   "cell_type": "code",
   "execution_count": 1,
   "id": "59fd9540",
   "metadata": {},
   "outputs": [
    {
     "ename": "ModuleNotFoundError",
     "evalue": "No module named 'konlpy'",
     "output_type": "error",
     "traceback": [
      "\u001b[1;31m---------------------------------------------------------------------------\u001b[0m",
      "\u001b[1;31mModuleNotFoundError\u001b[0m                       Traceback (most recent call last)",
      "Input \u001b[1;32mIn [1]\u001b[0m, in \u001b[0;36m<cell line: 2>\u001b[1;34m()\u001b[0m\n\u001b[0;32m      1\u001b[0m \u001b[38;5;66;03m# 라이브러리 가지고 오기\u001b[39;00m\n\u001b[1;32m----> 2\u001b[0m \u001b[38;5;28;01mfrom\u001b[39;00m \u001b[38;5;21;01mkonlpy\u001b[39;00m\u001b[38;5;21;01m.\u001b[39;00m\u001b[38;5;21;01mtag\u001b[39;00m \u001b[38;5;28;01mimport\u001b[39;00m Okt\n",
      "\u001b[1;31mModuleNotFoundError\u001b[0m: No module named 'konlpy'"
     ]
    }
   ],
   "source": [
    "# 라이브러리 가지고 오기\n",
    "from konlpy.tag import Okt"
   ]
  },
  {
   "cell_type": "code",
   "execution_count": null,
   "id": "73cb0f1c",
   "metadata": {},
   "outputs": [],
   "source": [
    "word = Okt()"
   ]
  },
  {
   "cell_type": "code",
   "execution_count": 4,
   "id": "57dce7b8",
   "metadata": {},
   "outputs": [
    {
     "data": {
      "text/plain": [
       "'한국어 분석을 시작합니다.'"
      ]
     },
     "execution_count": 4,
     "metadata": {},
     "output_type": "execute_result"
    }
   ],
   "source": [
    "text = \"한국어 분석을 시작합니다.\"\n",
    "text"
   ]
  },
  {
   "cell_type": "code",
   "execution_count": null,
   "id": "b2e41a03",
   "metadata": {},
   "outputs": [],
   "source": [
    "# 1. 정규화\n",
    "print(word.normalize(text))"
   ]
  },
  {
   "cell_type": "code",
   "execution_count": null,
   "id": "3fbfd22a",
   "metadata": {},
   "outputs": [],
   "source": [
    "#2. 어절 추출하기\n",
    "print(word.phrases(text))"
   ]
  },
  {
   "cell_type": "code",
   "execution_count": null,
   "id": "4603bfdc",
   "metadata": {},
   "outputs": [],
   "source": [
    "#3. 형태소 분리하기 : 가장 많이 사용\n",
    "print(word.morphs(text))"
   ]
  },
  {
   "cell_type": "code",
   "execution_count": null,
   "id": "74d81ee6",
   "metadata": {},
   "outputs": [],
   "source": [
    "#4. 형태소 분리(형태소 마다 이름달기)\n",
    "print(word.pos(text))"
   ]
  },
  {
   "cell_type": "code",
   "execution_count": null,
   "id": "bee6e11e",
   "metadata": {},
   "outputs": [],
   "source": [
    "#5. 명사 추출하기 : 자주 사용\n",
    "print(word.nouns(text))"
   ]
  },
  {
   "cell_type": "code",
   "execution_count": null,
   "id": "aa57abb5",
   "metadata": {},
   "outputs": [],
   "source": []
  },
  {
   "cell_type": "code",
   "execution_count": null,
   "id": "f374b048",
   "metadata": {},
   "outputs": [],
   "source": []
  },
  {
   "cell_type": "code",
   "execution_count": null,
   "id": "bb50cffa",
   "metadata": {},
   "outputs": [],
   "source": []
  },
  {
   "cell_type": "code",
   "execution_count": null,
   "id": "a2944204",
   "metadata": {},
   "outputs": [],
   "source": []
  }
 ],
 "metadata": {
  "kernelspec": {
   "display_name": "Python 3 (ipykernel)",
   "language": "python",
   "name": "python3"
  },
  "language_info": {
   "codemirror_mode": {
    "name": "ipython",
    "version": 3
   },
   "file_extension": ".py",
   "mimetype": "text/x-python",
   "name": "python",
   "nbconvert_exporter": "python",
   "pygments_lexer": "ipython3",
   "version": "3.10.2"
  }
 },
 "nbformat": 4,
 "nbformat_minor": 5
}
