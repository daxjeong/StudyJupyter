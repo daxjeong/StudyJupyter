{
 "cells": [
  {
   "cell_type": "markdown",
   "id": "b1bf9984",
   "metadata": {},
   "source": [
    "# 판다스 데이터 구조"
   ]
  },
  {
   "cell_type": "markdown",
   "id": "b555d848",
   "metadata": {},
   "source": [
    "## 시리즈"
   ]
  },
  {
   "cell_type": "code",
   "execution_count": 3,
   "id": "396cdca4",
   "metadata": {},
   "outputs": [],
   "source": [
    "# 라이브러리 불러들이기\n",
    "import pandas as pd"
   ]
  },
  {
   "cell_type": "code",
   "execution_count": 9,
   "id": "b7185b49",
   "metadata": {},
   "outputs": [
    {
     "data": {
      "text/plain": [
       "00       Doc\n",
       "11       Cat\n",
       "22     Tiger\n",
       "33      Lion\n",
       "44    Monkey\n",
       "dtype: object"
      ]
     },
     "execution_count": 9,
     "metadata": {},
     "output_type": "execute_result"
    }
   ],
   "source": [
    "sd1 = pd.Series(['Doc', 'Cat', 'Tiger', 'Lion', 'Monkey'],\n",
    "                index = ['00','11','22','33','44'])\n",
    "sd1"
   ]
  },
  {
   "cell_type": "markdown",
   "id": "521abd62",
   "metadata": {},
   "source": [
    "### 딕셔너리 -> 시리즈로"
   ]
  },
  {
   "cell_type": "code",
   "execution_count": 13,
   "id": "c5b2bb35",
   "metadata": {},
   "outputs": [
    {
     "data": {
      "text/plain": [
       "{'a': 1, 'b': 2, 'c': 3}"
      ]
     },
     "execution_count": 13,
     "metadata": {},
     "output_type": "execute_result"
    }
   ],
   "source": [
    "dict_data = {'a':1, 'b':2, 'c':3}\n",
    "dict_data\n",
    "\n",
    "# 리스트 [] , 딕셔너리{}"
   ]
  },
  {
   "cell_type": "code",
   "execution_count": 15,
   "id": "6bafe5f3",
   "metadata": {},
   "outputs": [
    {
     "data": {
      "text/plain": [
       "a    1\n",
       "b    2\n",
       "c    3\n",
       "dtype: int64"
      ]
     },
     "execution_count": 15,
     "metadata": {},
     "output_type": "execute_result"
    }
   ],
   "source": [
    "sd2 = pd.Series(dict_data)\n",
    "sd2"
   ]
  },
  {
   "cell_type": "code",
   "execution_count": 16,
   "id": "951b28d6",
   "metadata": {},
   "outputs": [
    {
     "data": {
      "text/plain": [
       "pandas.core.series.Series"
      ]
     },
     "execution_count": 16,
     "metadata": {},
     "output_type": "execute_result"
    }
   ],
   "source": [
    "type(sd2)\n",
    "# dtype : 데이터의 타입"
   ]
  },
  {
   "cell_type": "markdown",
   "id": "90c5b1e9",
   "metadata": {},
   "source": [
    "### 리스트 -> 시리즈로"
   ]
  },
  {
   "cell_type": "code",
   "execution_count": 18,
   "id": "3a81d219",
   "metadata": {},
   "outputs": [
    {
     "data": {
      "text/plain": [
       "0      Doc\n",
       "1      Cat\n",
       "2    Tiger\n",
       "dtype: object"
      ]
     },
     "execution_count": 18,
     "metadata": {},
     "output_type": "execute_result"
    }
   ],
   "source": [
    "list_data = ['Doc', 'Cat', 'Tiger']\n",
    "sd3 = pd.Series(list_data)\n",
    "sd3"
   ]
  },
  {
   "cell_type": "code",
   "execution_count": 19,
   "id": "18abbba0",
   "metadata": {},
   "outputs": [
    {
     "data": {
      "text/plain": [
       "pandas.core.series.Series"
      ]
     },
     "execution_count": 19,
     "metadata": {},
     "output_type": "execute_result"
    }
   ],
   "source": [
    "type(sd3)"
   ]
  },
  {
   "cell_type": "markdown",
   "id": "940e6121",
   "metadata": {},
   "source": [
    "### 튜플-> 시리즈로"
   ]
  },
  {
   "cell_type": "code",
   "execution_count": 27,
   "id": "fb993c33",
   "metadata": {},
   "outputs": [
    {
     "data": {
      "text/plain": [
       "('이순신', '1991-03-15', '남자')"
      ]
     },
     "execution_count": 27,
     "metadata": {},
     "output_type": "execute_result"
    }
   ],
   "source": [
    "# '이순신', '1991-03-15', '남자'\n",
    "# 위 데이터를 튜플로 만들기\n",
    "tuple_data = ('이순신','1991-03-15','남자')\n",
    "tuple_data"
   ]
  },
  {
   "cell_type": "code",
   "execution_count": 28,
   "id": "6f4c8611",
   "metadata": {},
   "outputs": [
    {
     "data": {
      "text/plain": [
       "tuple"
      ]
     },
     "execution_count": 28,
     "metadata": {},
     "output_type": "execute_result"
    }
   ],
   "source": [
    "type(tuple_data)"
   ]
  },
  {
   "cell_type": "code",
   "execution_count": 30,
   "id": "530767af",
   "metadata": {},
   "outputs": [
    {
     "data": {
      "text/plain": [
       "이름             이순신\n",
       "생년월일    1991-03-15\n",
       "성별              남자\n",
       "dtype: object"
      ]
     },
     "execution_count": 30,
     "metadata": {},
     "output_type": "execute_result"
    }
   ],
   "source": [
    "col_name = [\"이름\", \"생년월일\", \"성별\"]\n",
    "sd4 = pd.Series(tuple_data, \n",
    "                index = col_name)\n",
    "sd4"
   ]
  },
  {
   "cell_type": "markdown",
   "id": "92e273fd",
   "metadata": {},
   "source": [
    "## 데이터프레임 만들기"
   ]
  },
  {
   "cell_type": "markdown",
   "id": "a89ee7c6",
   "metadata": {},
   "source": [
    "### 딕셔너리 -> 데이터프레임으로"
   ]
  },
  {
   "cell_type": "code",
   "execution_count": 44,
   "id": "5a433a64",
   "metadata": {},
   "outputs": [
    {
     "data": {
      "text/plain": [
       "{'동물': ['Dog', 'Cat', 'Tiger', 'Lion', 'Monkey'], '나이': [7, 9, 2, 3, 1]}"
      ]
     },
     "execution_count": 44,
     "metadata": {},
     "output_type": "execute_result"
    }
   ],
   "source": [
    "# 동물 : 'Dog', 'Cat', 'Tiger', 'Lion', 'Monkey'\n",
    "# 나이 : 7, 9, 2, 3, 1\n",
    "# 위에 동물과 나이를 하나의 딕셔너리로 만들어주세요\n",
    "dic_data = {'동물' : ['Dog', 'Cat', 'Tiger', 'Lion', 'Monkey'], \n",
    "            '나이' : [7, 9, 2, 3, 1]}\n",
    "dic_data"
   ]
  },
  {
   "cell_type": "code",
   "execution_count": 49,
   "id": "e4cfb2f6",
   "metadata": {},
   "outputs": [
    {
     "data": {
      "text/html": [
       "<div>\n",
       "<style scoped>\n",
       "    .dataframe tbody tr th:only-of-type {\n",
       "        vertical-align: middle;\n",
       "    }\n",
       "\n",
       "    .dataframe tbody tr th {\n",
       "        vertical-align: top;\n",
       "    }\n",
       "\n",
       "    .dataframe thead th {\n",
       "        text-align: right;\n",
       "    }\n",
       "</style>\n",
       "<table border=\"1\" class=\"dataframe\">\n",
       "  <thead>\n",
       "    <tr style=\"text-align: right;\">\n",
       "      <th></th>\n",
       "      <th>동물</th>\n",
       "      <th>나이</th>\n",
       "    </tr>\n",
       "  </thead>\n",
       "  <tbody>\n",
       "    <tr>\n",
       "      <th>0</th>\n",
       "      <td>Dog</td>\n",
       "      <td>7</td>\n",
       "    </tr>\n",
       "    <tr>\n",
       "      <th>1</th>\n",
       "      <td>Cat</td>\n",
       "      <td>9</td>\n",
       "    </tr>\n",
       "    <tr>\n",
       "      <th>2</th>\n",
       "      <td>Tiger</td>\n",
       "      <td>2</td>\n",
       "    </tr>\n",
       "    <tr>\n",
       "      <th>3</th>\n",
       "      <td>Lion</td>\n",
       "      <td>3</td>\n",
       "    </tr>\n",
       "    <tr>\n",
       "      <th>4</th>\n",
       "      <td>Monkey</td>\n",
       "      <td>1</td>\n",
       "    </tr>\n",
       "  </tbody>\n",
       "</table>\n",
       "</div>"
      ],
      "text/plain": [
       "       동물  나이\n",
       "0     Dog   7\n",
       "1     Cat   9\n",
       "2   Tiger   2\n",
       "3    Lion   3\n",
       "4  Monkey   1"
      ]
     },
     "execution_count": 49,
     "metadata": {},
     "output_type": "execute_result"
    }
   ],
   "source": [
    "# 데이터프레임으로 만들기\n",
    "df1 = pd.DataFrame(dic_data)\n",
    "df1"
   ]
  },
  {
   "cell_type": "markdown",
   "id": "802423d7",
   "metadata": {},
   "source": [
    "### 리스트->데이터프레임으로"
   ]
  },
  {
   "cell_type": "code",
   "execution_count": 52,
   "id": "f27413e9",
   "metadata": {},
   "outputs": [
    {
     "data": {
      "text/plain": [
       "[['Dog', 7], ['Cat', 9], ['Tiger', 2], ['Lion', 3], ['Monkey', 1]]"
      ]
     },
     "execution_count": 52,
     "metadata": {},
     "output_type": "execute_result"
    }
   ],
   "source": [
    "list_data = [['Dog', 7], \n",
    "             ['Cat', 9], \n",
    "             ['Tiger', 2], \n",
    "             ['Lion', 3], \n",
    "             ['Monkey', 1]]\n",
    "list_data"
   ]
  },
  {
   "cell_type": "code",
   "execution_count": 57,
   "id": "056f393c",
   "metadata": {},
   "outputs": [
    {
     "data": {
      "text/html": [
       "<div>\n",
       "<style scoped>\n",
       "    .dataframe tbody tr th:only-of-type {\n",
       "        vertical-align: middle;\n",
       "    }\n",
       "\n",
       "    .dataframe tbody tr th {\n",
       "        vertical-align: top;\n",
       "    }\n",
       "\n",
       "    .dataframe thead th {\n",
       "        text-align: right;\n",
       "    }\n",
       "</style>\n",
       "<table border=\"1\" class=\"dataframe\">\n",
       "  <thead>\n",
       "    <tr style=\"text-align: right;\">\n",
       "      <th></th>\n",
       "      <th>동물</th>\n",
       "      <th>나이</th>\n",
       "    </tr>\n",
       "  </thead>\n",
       "  <tbody>\n",
       "    <tr>\n",
       "      <th>0</th>\n",
       "      <td>Dog</td>\n",
       "      <td>7</td>\n",
       "    </tr>\n",
       "    <tr>\n",
       "      <th>1</th>\n",
       "      <td>Cat</td>\n",
       "      <td>9</td>\n",
       "    </tr>\n",
       "    <tr>\n",
       "      <th>2</th>\n",
       "      <td>Tiger</td>\n",
       "      <td>2</td>\n",
       "    </tr>\n",
       "    <tr>\n",
       "      <th>3</th>\n",
       "      <td>Lion</td>\n",
       "      <td>3</td>\n",
       "    </tr>\n",
       "    <tr>\n",
       "      <th>4</th>\n",
       "      <td>Monkey</td>\n",
       "      <td>1</td>\n",
       "    </tr>\n",
       "  </tbody>\n",
       "</table>\n",
       "</div>"
      ],
      "text/plain": [
       "       동물  나이\n",
       "0     Dog   7\n",
       "1     Cat   9\n",
       "2   Tiger   2\n",
       "3    Lion   3\n",
       "4  Monkey   1"
      ]
     },
     "execution_count": 57,
     "metadata": {},
     "output_type": "execute_result"
    }
   ],
   "source": [
    "# 데이터프레임으로 만들기\n",
    "df2 = pd.DataFrame(list_data,\n",
    "                  columns = ['동물', '나이'])\n",
    "df2"
   ]
  },
  {
   "cell_type": "code",
   "execution_count": 60,
   "id": "d2aa079c",
   "metadata": {},
   "outputs": [
    {
     "name": "stdout",
     "output_type": "stream",
     "text": [
      "<class 'pandas.core.frame.DataFrame'>\n",
      "동물    object\n",
      "나이     int64\n",
      "dtype: object\n"
     ]
    }
   ],
   "source": [
    "print(type(df2))\n",
    "print(df2.dtypes)"
   ]
  },
  {
   "cell_type": "markdown",
   "id": "fd26607a",
   "metadata": {},
   "source": [
    "### 비어 있는 데이터프레임 만들기"
   ]
  },
  {
   "cell_type": "code",
   "execution_count": 63,
   "id": "1addb0f1",
   "metadata": {},
   "outputs": [
    {
     "data": {
      "text/html": [
       "<div>\n",
       "<style scoped>\n",
       "    .dataframe tbody tr th:only-of-type {\n",
       "        vertical-align: middle;\n",
       "    }\n",
       "\n",
       "    .dataframe tbody tr th {\n",
       "        vertical-align: top;\n",
       "    }\n",
       "\n",
       "    .dataframe thead th {\n",
       "        text-align: right;\n",
       "    }\n",
       "</style>\n",
       "<table border=\"1\" class=\"dataframe\">\n",
       "  <thead>\n",
       "    <tr style=\"text-align: right;\">\n",
       "      <th></th>\n",
       "    </tr>\n",
       "  </thead>\n",
       "  <tbody>\n",
       "  </tbody>\n",
       "</table>\n",
       "</div>"
      ],
      "text/plain": [
       "Empty DataFrame\n",
       "Columns: []\n",
       "Index: []"
      ]
     },
     "execution_count": 63,
     "metadata": {},
     "output_type": "execute_result"
    }
   ],
   "source": [
    "df_null = pd.DataFrame()\n",
    "df_null"
   ]
  },
  {
   "cell_type": "code",
   "execution_count": 64,
   "id": "5fa7e6f2",
   "metadata": {},
   "outputs": [
    {
     "data": {
      "text/html": [
       "<div>\n",
       "<style scoped>\n",
       "    .dataframe tbody tr th:only-of-type {\n",
       "        vertical-align: middle;\n",
       "    }\n",
       "\n",
       "    .dataframe tbody tr th {\n",
       "        vertical-align: top;\n",
       "    }\n",
       "\n",
       "    .dataframe thead th {\n",
       "        text-align: right;\n",
       "    }\n",
       "</style>\n",
       "<table border=\"1\" class=\"dataframe\">\n",
       "  <thead>\n",
       "    <tr style=\"text-align: right;\">\n",
       "      <th></th>\n",
       "      <th>동물</th>\n",
       "    </tr>\n",
       "  </thead>\n",
       "  <tbody>\n",
       "  </tbody>\n",
       "</table>\n",
       "</div>"
      ],
      "text/plain": [
       "Empty DataFrame\n",
       "Columns: [동물]\n",
       "Index: []"
      ]
     },
     "execution_count": 64,
     "metadata": {},
     "output_type": "execute_result"
    }
   ],
   "source": [
    "# 컬럼(변수) 만들기\n",
    "df_null[\"동물\"] = \"Dog\"\n",
    "df_null"
   ]
  }
 ],
 "metadata": {
  "kernelspec": {
   "display_name": "Python 3 (ipykernel)",
   "language": "python",
   "name": "python3"
  },
  "language_info": {
   "codemirror_mode": {
    "name": "ipython",
    "version": 3
   },
   "file_extension": ".py",
   "mimetype": "text/x-python",
   "name": "python",
   "nbconvert_exporter": "python",
   "pygments_lexer": "ipython3",
   "version": "3.9.7"
  }
 },
 "nbformat": 4,
 "nbformat_minor": 5
}
