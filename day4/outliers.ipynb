{
 "cells": [
  {
   "cell_type": "code",
   "execution_count": 1,
   "id": "2d63d456",
   "metadata": {},
   "outputs": [],
   "source": [
    "import numpy as np\n",
    "\n",
    "# 매개변수가 두개인 경우\n",
    "def outlier_iqr3(df,data):\n",
    "    # percentile() : 25%와 75% 시점의 데이터 값을 알려줍니다.(return)\n",
    "    q1, q3 = np.percentile(df[data], [25, 75])\n",
    "    print(q1)\n",
    "    print(q3)\n",
    "    \n",
    "    # iqr 값 계산하기\n",
    "    iqr = q3 - q1\n",
    "    print(iqr)\n",
    "    \n",
    "    # 최대값 계산하기\n",
    "    upper_bound = q3 + (iqr * 1.5)\n",
    "    print(upper_bound)\n",
    "    \n",
    "    # 최소값 계산하기\n",
    "    lower_bound = q1 - (iqr * 1.5)\n",
    "    print(lower_bound)\n",
    "    \n",
    "    # 나이 데이터에서 이상치 값 조회하기\n",
    "    df_temp=df[(df[data]>upper_bound) | \n",
    "                           (df[data]<lower_bound)]\n",
    "    print(len(df_temp))"
   ]
  }
 ],
 "metadata": {
  "kernelspec": {
   "display_name": "Python 3 (ipykernel)",
   "language": "python",
   "name": "python3"
  },
  "language_info": {
   "codemirror_mode": {
    "name": "ipython",
    "version": 3
   },
   "file_extension": ".py",
   "mimetype": "text/x-python",
   "name": "python",
   "nbconvert_exporter": "python",
   "pygments_lexer": "ipython3",
   "version": "3.9.7"
  }
 },
 "nbformat": 4,
 "nbformat_minor": 5
}
